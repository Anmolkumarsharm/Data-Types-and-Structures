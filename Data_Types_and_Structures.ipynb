{
  "nbformat": 4,
  "nbformat_minor": 0,
  "metadata": {
    "colab": {
      "provenance": []
    },
    "kernelspec": {
      "name": "python3",
      "display_name": "Python 3"
    },
    "language_info": {
      "name": "python"
    }
  },
  "cells": [
    {
      "cell_type": "markdown",
      "source": [
        "#Data Types and Structures"
      ],
      "metadata": {
        "id": "Wn3qBS_TeD-H"
      }
    },
    {
      "cell_type": "markdown",
      "source": [
        "##          Assignment 2"
      ],
      "metadata": {
        "id": "plLgmgWDeS_I"
      }
    },
    {
      "cell_type": "markdown",
      "source": [
        "1 What are data structures, and why are they important?\n",
        " -   Data structure of organizing and storing data so that it can be accessed and maipulated effieciently .\n",
        "-  Efficient Data Management: Organizes data in a way that makes access and manipulation easier.\n",
        "- Solves Complex Problems: Enables implementation of advanced algorithms, making it possible to solve real-world challenges like navigation, scheduling, and more.\n",
        "- Scalability: Supports building software that can handle large and growing datasets efficiently.\n",
        "- Reusability: Many data structures are reusable across different applications, saving development time."
      ],
      "metadata": {
        "id": "oEXMg5EZeZ3y"
      }
    },
    {
      "cell_type": "markdown",
      "source": [
        "2  Explain the difference between mutable and immutable data types with examples.\n",
        " -   Mutable and immutable data types refer to whether an object can be modified after it is created.\n",
        "- Mutable Data Types: Objects whose values can be changed after creation.\n",
        "- Immutable: Objects whose values cannot be changed after creation. Any operation that appears to modify an immutable object creates a new object."
      ],
      "metadata": {
        "id": "EudcOj_AgaDr"
      }
    },
    {
      "cell_type": "code",
      "source": [
        "# Mutable example\n",
        "my_list = [1, 2, 3]\n",
        "my_list[0] = 10\n",
        "print(my_list)"
      ],
      "metadata": {
        "colab": {
          "base_uri": "https://localhost:8080/"
        },
        "id": "W6DXT1gQhSm7",
        "outputId": "fe50e2b1-55c3-4546-e5eb-51c7dd38887d"
      },
      "execution_count": null,
      "outputs": [
        {
          "output_type": "stream",
          "name": "stdout",
          "text": [
            "[10, 2, 3]\n"
          ]
        }
      ]
    },
    {
      "cell_type": "code",
      "source": [
        "# Immutable example\n",
        "my_tuple = (1, 2, 3)\n",
        "# my_tuple[0] = 10  # This would raise a TypeError\n",
        "print(my_tuple)\n",
        "\n"
      ],
      "metadata": {
        "colab": {
          "base_uri": "https://localhost:8080/"
        },
        "id": "swy1X30IhbsI",
        "outputId": "cf225ca0-94f6-4f5e-ff9a-11b7f3e35b07"
      },
      "execution_count": null,
      "outputs": [
        {
          "output_type": "stream",
          "name": "stdout",
          "text": [
            "(1, 2, 3)\n"
          ]
        }
      ]
    },
    {
      "cell_type": "markdown",
      "source": [
        "3 What are the main differences between lists and tuples in Python?\n",
        " -  Lists: Mutable, meaning you can modify their content (add, remove, or change elements).\n",
        "  - Lists: Defined with square brackets [ ].\n",
        "   -Lists: Slower than tuples for iteration and operations due to their mutable nature.\n",
        " - Tuples: Immutable, meaning their content cannot be modified after creation\n",
        "  -  Tuples: Defined with parentheses ( ).\n",
        "  - Tuples: Faster because they are immutable and their memory usage is more efficient."
      ],
      "metadata": {
        "id": "-VZgaHyWiOf2"
      }
    },
    {
      "cell_type": "markdown",
      "source": [
        "4 Describe how dictionaries store data.\n",
        "-  Dictionaries in Python store data as key-value pairs in a structure called a hash table. This design allows for fast access, insertion, and deletion of elements, typically in constant time\n",
        "𝑂(1)O(1)."
      ],
      "metadata": {
        "id": "ZCUJEDQXjfDA"
      }
    },
    {
      "cell_type": "code",
      "source": [
        "my_dict = {\"name\": \"Alice\", \"age\": 25, \"city\": \"New York\"}\n",
        "print(my_dict[\"age\"])\n"
      ],
      "metadata": {
        "colab": {
          "base_uri": "https://localhost:8080/"
        },
        "id": "whD5sQDDkGmM",
        "outputId": "bdf0ed51-0216-49ca-d259-c8e699e7c4bb"
      },
      "execution_count": null,
      "outputs": [
        {
          "output_type": "stream",
          "name": "stdout",
          "text": [
            "25\n"
          ]
        }
      ]
    },
    {
      "cell_type": "markdown",
      "source": [
        "5 Why might you use a set instead of a list in Python?\n",
        " -  we might use a set instead of a list in Python when.\n",
        "  -  No Duplicates Allowed: Sets automatically remove duplicate elements.\n",
        "   - Fast Membership Tests: Checking if an item exists in a set is faster (average O(1) complexity) compared to a list (O(n) complexity).\n",
        "    - Unordered Collection: You don't need to maintain the order of elements."
      ],
      "metadata": {
        "id": "GWZzIGe2kRmK"
      }
    },
    {
      "cell_type": "markdown",
      "source": [
        "6 What is a string in Python, and how is it different from a list?\n",
        " -  A string in Python is a sequence of characters enclosed in quotes (single, double, or triple quotes). For example, \"hello\" or 'world'. Strings are used to represent text. String is immutable it cannot changed. It only contains characters but list are mutable it will changed . List conatin any type of element."
      ],
      "metadata": {
        "id": "d-kH9v0m_F-q"
      }
    },
    {
      "cell_type": "markdown",
      "source": [
        "7 How do tuples ensure data integrity in Python?\n",
        " -  Tuples ensure data integrity in Python primarily through immutability. Once a tuple is created, its elements cannot be modified, added, or removed. This makes tuples a reliable choice for storing data that should remain constant throughout the program."
      ],
      "metadata": {
        "id": "WCx8YTFzAWsS"
      }
    },
    {
      "cell_type": "markdown",
      "source": [
        "8 What is a hash table, and how does it relate to dictionaries in Python?\n",
        " -  A hash table is a data structure that provides a way to store and retrieve data efficiently using a key-value pair mechanism. It uses a hash function to compute a unique index (or hash code) for each key, which determines where the corresponding value is stored."
      ],
      "metadata": {
        "id": "5JWHf1iyAyPj"
      }
    },
    {
      "cell_type": "markdown",
      "source": [
        "9 Can lists contain different data types in Python?\n",
        " -  Yes, lists in Python can contain different data types."
      ],
      "metadata": {
        "id": "_3As7i_pBolF"
      }
    },
    {
      "cell_type": "code",
      "source": [
        "my_list = [1, \"hello\", 3.14, True]\n",
        "\n",
        "# This list contains an integer, a string, a float, and a boolean value."
      ],
      "metadata": {
        "id": "WVphDBcmCB_m"
      },
      "execution_count": null,
      "outputs": []
    },
    {
      "cell_type": "markdown",
      "source": [
        "10 Explain why strings are immutable in Python.\n",
        " -  Strings in Python are “immutable” which means they can not be changed after they are created. Some other immutable data types are integers, float, boolean, etc.\n",
        " The immutability of Python string is very useful as it helps in hashing, performance optimization, safety, ease of use, etc."
      ],
      "metadata": {
        "id": "OHprcrs3CEOh"
      }
    },
    {
      "cell_type": "markdown",
      "source": [
        "11 What advantages do dictionaries offer over lists for certain tasks?\n",
        " -  Dictionaries have several advantages over lists for certain tasks, including faster lookups, easier code reading, and more flexibility in storing data"
      ],
      "metadata": {
        "id": "Q5lloDDGDTvx"
      }
    },
    {
      "cell_type": "markdown",
      "source": [
        "12 Describe a scenario where using a tuple would be preferable over a list.\n",
        " -  A scenario where a tuple would be preferable over a list is when you need to store a collection of data that should never be modified after it's created, like representing a set of fixed coordinates in a game, storing configuration settings that shouldn't be changed during program execution, or defining a data structure where immutability is important for data integrity, ensuring that the values remain consistent throughout the program."
      ],
      "metadata": {
        "id": "BGnga2SsJY4x"
      }
    },
    {
      "cell_type": "markdown",
      "source": [
        "13 How do sets handle duplicate values in Python?\n",
        "-  Sets in Python automatically handle duplicate values by discarding them. When you create a set or add elements to it, any duplicate values are simply ignored, ensuring that the set contains only unique elements."
      ],
      "metadata": {
        "id": "Qxd8veH8JmQ8"
      }
    },
    {
      "cell_type": "markdown",
      "source": [
        "14 How does the “in” keyword work differently for lists and dictionaries?\n",
        "-  When using the \"in\" keyword, it checks if an element exists within a list by comparing it to each item in the list based on its position, while in a dictionary, it checks if a specific key exists within the key-value pairs, meaning it only looks for the key and not the associated value."
      ],
      "metadata": {
        "id": "wBofx_DBJxwb"
      }
    },
    {
      "cell_type": "markdown",
      "source": [
        "15 Can you modify the elements of a tuple? Explain why or why not?\n",
        "-  No, you cannot modify the elements of a tuple in Python because tuples are \"immutable,\" meaning once created, their elements cannot be changed, added, or removed; if you try to modify a tuple element, you will encounter a TypeError."
      ],
      "metadata": {
        "id": "VEAuMAD1KDZw"
      }
    },
    {
      "cell_type": "markdown",
      "source": [
        "16 What is a nested dictionary, and give an example of its use case?\n",
        "-  Nesting Dictionary means putting a dictionary inside another dictionary. Nesting is of great use as the kind of information we can model in programs is expanded greatly."
      ],
      "metadata": {
        "id": "5vAsVWuBKTAF"
      }
    },
    {
      "cell_type": "markdown",
      "source": [
        "17 Describe the time complexity of accessing elements in a dictionary.\n",
        "-  The time complexity of retrieving a value by its key in a dictionary is O(1). This is because dictionaries use a hash table internally which allows constant time lookup. Why O(1)? Hash tables use the hash of the key to find the memory location which enables direct access"
      ],
      "metadata": {
        "id": "9eAa5sVnKl4f"
      }
    },
    {
      "cell_type": "markdown",
      "source": [
        "18 In what situations are lists preferred over dictionaries?\n",
        "-  Lists are preferred over dictionaries when the order of elements is crucial, when you need to frequently perform operations like appending or extending elements, or when you need to access data based on its position in the sequence (using indexes), rather than a unique key to look up a value"
      ],
      "metadata": {
        "id": "UIc9q0UmLB2c"
      }
    },
    {
      "cell_type": "markdown",
      "source": [
        "19 Why are dictionaries considered unordered, and how does that affect data retrieval?\n",
        "-  Dictionaries in Python are historically considered unordered collections because the order of items was not guaranteed to be preserved in earlier versions of Python (prior to version 3.7). Starting with Python 3.7, dictionaries are ordered by insertion order as an implementation detail (and it was officially guaranteed starting with Python 3.8). However, some older explanations and habits still describe them as unordered due to their original behavior."
      ],
      "metadata": {
        "id": "FfnUZ9EiLWEf"
      }
    },
    {
      "cell_type": "markdown",
      "source": [
        "20 Explain the difference between a list and a dictionary in terms of data retrieval.\n",
        "-  A list retrieves data using its index position (a number starting from 0), while a dictionary retrieves data using a specific key, meaning you access elements in a list based on their order in the sequence, whereas in a dictionary, you access elements by providing a unique identifier (the key) that maps to the desired value; this makes dictionaries significantly faster for lookups when you need to find a specific piece of data quickly based on a known key.\n"
      ],
      "metadata": {
        "id": "u833b78wMEwR"
      }
    },
    {
      "cell_type": "markdown",
      "source": [
        "# Practical Questions\n"
      ],
      "metadata": {
        "id": "6bWabryxMsj_"
      }
    },
    {
      "cell_type": "markdown",
      "source": [
        "1 Write a code to create a string with your name and print it."
      ],
      "metadata": {
        "id": "LWFVEHl8Mw0n"
      }
    },
    {
      "cell_type": "code",
      "source": [
        "Name = \"Anmol kumar sharma\"\n",
        "print(Name)"
      ],
      "metadata": {
        "colab": {
          "base_uri": "https://localhost:8080/"
        },
        "id": "PswIsRp-M3QO",
        "outputId": "d07469ce-aaee-42bb-b62c-702f042b0a5b"
      },
      "execution_count": 1,
      "outputs": [
        {
          "output_type": "stream",
          "name": "stdout",
          "text": [
            "Anmol kumar sharma\n"
          ]
        }
      ]
    },
    {
      "cell_type": "markdown",
      "source": [
        "2 Write a code to find the length of the string \"Hello World\"."
      ],
      "metadata": {
        "id": "w-AhNVYQN_UN"
      }
    },
    {
      "cell_type": "code",
      "source": [
        "len_nam = \"Hello World\"\n",
        "print(len(len_nam))"
      ],
      "metadata": {
        "colab": {
          "base_uri": "https://localhost:8080/"
        },
        "id": "INSyuZdROF7p",
        "outputId": "e607fe64-773b-4f84-ba9e-1e5b35269ff4"
      },
      "execution_count": 2,
      "outputs": [
        {
          "output_type": "stream",
          "name": "stdout",
          "text": [
            "11\n"
          ]
        }
      ]
    },
    {
      "cell_type": "markdown",
      "source": [
        "3 Write a code to slice the first 3 characters from the string \"Python Programming\"."
      ],
      "metadata": {
        "id": "JUK4zmiFOfxh"
      }
    },
    {
      "cell_type": "code",
      "source": [
        "slic = \"Python Programming\"\n",
        "print(slic[0:3])"
      ],
      "metadata": {
        "colab": {
          "base_uri": "https://localhost:8080/"
        },
        "id": "tJ5KXR5uOlxf",
        "outputId": "d4691fef-56d8-436f-d570-bc82a4d08f76"
      },
      "execution_count": 4,
      "outputs": [
        {
          "output_type": "stream",
          "name": "stdout",
          "text": [
            "Pyt\n"
          ]
        }
      ]
    },
    {
      "cell_type": "markdown",
      "source": [
        "4 Write a code to convert the string \"hello\" to uppercase."
      ],
      "metadata": {
        "id": "ofxa4wcgPA1T"
      }
    },
    {
      "cell_type": "code",
      "source": [
        "up_str = \"hello\"\n",
        "up_str.upper()"
      ],
      "metadata": {
        "colab": {
          "base_uri": "https://localhost:8080/",
          "height": 36
        },
        "id": "z86DouzMPKey",
        "outputId": "90d85422-80d4-4633-c9d7-0d80afe2606f"
      },
      "execution_count": 10,
      "outputs": [
        {
          "output_type": "execute_result",
          "data": {
            "text/plain": [
              "'HELLO'"
            ],
            "application/vnd.google.colaboratory.intrinsic+json": {
              "type": "string"
            }
          },
          "metadata": {},
          "execution_count": 10
        }
      ]
    },
    {
      "cell_type": "markdown",
      "source": [
        "5 Write a code to replace the word \"apple\" with \"orange\" in the string \"I like apple\"."
      ],
      "metadata": {
        "id": "sH9hqCuFQXCo"
      }
    },
    {
      "cell_type": "code",
      "source": [
        "text = \"I like apple\"\n",
        "new_text = text.replace(\"apple\", \"orange\")\n",
        "print(new_text)\n"
      ],
      "metadata": {
        "colab": {
          "base_uri": "https://localhost:8080/"
        },
        "id": "tTiBh_WJQhrL",
        "outputId": "c7cd2364-322d-486c-d2cc-38a6bf2750be"
      },
      "execution_count": 7,
      "outputs": [
        {
          "output_type": "stream",
          "name": "stdout",
          "text": [
            "I like orange\n"
          ]
        }
      ]
    },
    {
      "cell_type": "markdown",
      "source": [
        "6 Write a code to create a list with numbers 1 to 5 and print it."
      ],
      "metadata": {
        "id": "NIlWj0CORO27"
      }
    },
    {
      "cell_type": "code",
      "source": [
        "number = [1,2,3,4,5]\n",
        "print(number)"
      ],
      "metadata": {
        "colab": {
          "base_uri": "https://localhost:8080/"
        },
        "id": "rFkKxCSZRUbO",
        "outputId": "d36287d8-cbb5-4104-9121-91e70f9a9335"
      },
      "execution_count": 8,
      "outputs": [
        {
          "output_type": "stream",
          "name": "stdout",
          "text": [
            "[1, 2, 3, 4, 5]\n"
          ]
        }
      ]
    },
    {
      "cell_type": "markdown",
      "source": [
        "7 Write a code to append the number 10 to the list [1, 2, 3, 4]."
      ],
      "metadata": {
        "id": "ZdeNhXQdRxY9"
      }
    },
    {
      "cell_type": "code",
      "source": [
        "num = [1,2,3,4]\n",
        "num.append(10)\n",
        "print(num)"
      ],
      "metadata": {
        "colab": {
          "base_uri": "https://localhost:8080/"
        },
        "id": "0usf-Fb1R4Id",
        "outputId": "3adef6b7-8215-4bc6-a890-559377e51bcb"
      },
      "execution_count": 11,
      "outputs": [
        {
          "output_type": "stream",
          "name": "stdout",
          "text": [
            "[1, 2, 3, 4, 10]\n"
          ]
        }
      ]
    },
    {
      "cell_type": "markdown",
      "source": [
        "8 Write a code to remove the number 3 from the list [1, 2, 3, 4, 5]."
      ],
      "metadata": {
        "id": "GYNFcvGiSP-0"
      }
    },
    {
      "cell_type": "code",
      "source": [
        "num = [1,2,3,4,5]\n",
        "num.remove(3)\n",
        "print(num)"
      ],
      "metadata": {
        "colab": {
          "base_uri": "https://localhost:8080/"
        },
        "id": "xede9wkCSd0H",
        "outputId": "57638ab6-0fc1-43a7-b0fb-4f8ca828ab62"
      },
      "execution_count": 13,
      "outputs": [
        {
          "output_type": "stream",
          "name": "stdout",
          "text": [
            "[1, 2, 4, 5]\n"
          ]
        }
      ]
    },
    {
      "cell_type": "markdown",
      "source": [
        "9 Write a code to access the second element in the list ['a', 'b', 'c', 'd']."
      ],
      "metadata": {
        "id": "Udj2IrywSsQ2"
      }
    },
    {
      "cell_type": "code",
      "source": [
        "alp = ['a','b','c','d']\n",
        "print(alp[1])"
      ],
      "metadata": {
        "colab": {
          "base_uri": "https://localhost:8080/"
        },
        "id": "Dugg_tEnSw5B",
        "outputId": "2f9ed091-5e8d-45ee-f5c7-e29902fd91e5"
      },
      "execution_count": 14,
      "outputs": [
        {
          "output_type": "stream",
          "name": "stdout",
          "text": [
            "b\n"
          ]
        }
      ]
    },
    {
      "cell_type": "markdown",
      "source": [
        "10 Write a code to reverse the list [10, 20, 30, 40, 50]."
      ],
      "metadata": {
        "id": "IEmc_hbJTFfl"
      }
    },
    {
      "cell_type": "code",
      "source": [
        "num =  [10, 20, 30, 40, 50]\n",
        "num.reverse()\n",
        "print(num)"
      ],
      "metadata": {
        "colab": {
          "base_uri": "https://localhost:8080/"
        },
        "id": "vs58OH1xTLKz",
        "outputId": "f2fd114a-99d2-457e-9eee-56ba22fa8e4f"
      },
      "execution_count": 16,
      "outputs": [
        {
          "output_type": "stream",
          "name": "stdout",
          "text": [
            "[50, 40, 30, 20, 10]\n"
          ]
        }
      ]
    },
    {
      "cell_type": "markdown",
      "source": [
        "11 Write a code to create a tuple with the elements 10, 20, 30 and print it."
      ],
      "metadata": {
        "id": "EA0gDzc5TxQz"
      }
    },
    {
      "cell_type": "code",
      "source": [
        "my_tuple = (10, 20, 30)\n",
        "print(my_tuple)\n"
      ],
      "metadata": {
        "id": "3OAjJNtlT8Cc",
        "outputId": "908adf5b-cab4-4c74-a5a3-44833b71c539",
        "colab": {
          "base_uri": "https://localhost:8080/"
        }
      },
      "execution_count": 17,
      "outputs": [
        {
          "output_type": "stream",
          "name": "stdout",
          "text": [
            "(10, 20, 30)\n"
          ]
        }
      ]
    },
    {
      "cell_type": "markdown",
      "source": [
        "12  Write a code to access the first element of the tuple ('apple', 'banana', 'cherry')."
      ],
      "metadata": {
        "id": "jy1JRfQ1UBkZ"
      }
    },
    {
      "cell_type": "code",
      "source": [
        "fruits = ('apple', 'banana', 'cherry')\n",
        "first_fruit = fruits[0]\n",
        "print(first_fruit)\n"
      ],
      "metadata": {
        "id": "zuQfMZeSUFs-",
        "outputId": "9ce2ae79-acaa-4479-c3c5-2c00e0a0fd03",
        "colab": {
          "base_uri": "https://localhost:8080/"
        }
      },
      "execution_count": 18,
      "outputs": [
        {
          "output_type": "stream",
          "name": "stdout",
          "text": [
            "apple\n"
          ]
        }
      ]
    },
    {
      "cell_type": "markdown",
      "source": [
        "13 Write a code to count how many times the number 2 appears in the tuple (1, 2, 3, 2, 4, 2)."
      ],
      "metadata": {
        "id": "bs4gEzRvUYi4"
      }
    },
    {
      "cell_type": "code",
      "source": [
        "numbers = (1, 2, 3, 2, 4, 2)\n",
        "count = numbers.count(2)\n",
        "print(count)\n"
      ],
      "metadata": {
        "id": "DKXR95T4Udw6",
        "outputId": "b1be6340-8221-4276-d9eb-f32c45c04604",
        "colab": {
          "base_uri": "https://localhost:8080/"
        }
      },
      "execution_count": 19,
      "outputs": [
        {
          "output_type": "stream",
          "name": "stdout",
          "text": [
            "3\n"
          ]
        }
      ]
    },
    {
      "cell_type": "markdown",
      "source": [
        "14 Write a code to find the index of the element \"cat\" in the tuple ('dog', 'cat', 'rabbit')."
      ],
      "metadata": {
        "id": "jlHATO8VUgUb"
      }
    },
    {
      "cell_type": "code",
      "source": [
        "animals = ('dog', 'cat', 'rabbit')\n",
        "index_of_cat = animals.index('cat')\n",
        "print(index_of_cat)\n"
      ],
      "metadata": {
        "id": "672SrF-5UtOh",
        "outputId": "b881cf43-0959-4cfb-bc3f-adce96649dee",
        "colab": {
          "base_uri": "https://localhost:8080/"
        }
      },
      "execution_count": 20,
      "outputs": [
        {
          "output_type": "stream",
          "name": "stdout",
          "text": [
            "1\n"
          ]
        }
      ]
    },
    {
      "cell_type": "markdown",
      "source": [
        "15  Write a code to check if the element \"banana\" is in the tuple ('apple', 'orange', 'banana')."
      ],
      "metadata": {
        "id": "0UmahQueU-ML"
      }
    },
    {
      "cell_type": "code",
      "source": [
        "fruits = ('apple', 'orange', 'banana')\n",
        "is_banana_in_tuple = 'banana' in fruits\n",
        "print(is_banana_in_tuple)"
      ],
      "metadata": {
        "id": "Tz2D2xWjVCcE",
        "outputId": "202c22f6-0835-4d0a-e575-7708e617e7b4",
        "colab": {
          "base_uri": "https://localhost:8080/"
        }
      },
      "execution_count": 21,
      "outputs": [
        {
          "output_type": "stream",
          "name": "stdout",
          "text": [
            "True\n"
          ]
        }
      ]
    },
    {
      "cell_type": "markdown",
      "source": [
        "16 Write a code to create a set with the elements 1, 2, 3, 4, 5 and print it."
      ],
      "metadata": {
        "id": "FMhrVF_wVQVY"
      }
    },
    {
      "cell_type": "code",
      "source": [
        "my_set = {1, 2, 3, 4, 5}\n",
        "print(my_set)"
      ],
      "metadata": {
        "id": "a8wMZ9OTVVGY",
        "outputId": "afc5a360-3b16-4844-9086-f58f4092ef47",
        "colab": {
          "base_uri": "https://localhost:8080/"
        }
      },
      "execution_count": 22,
      "outputs": [
        {
          "output_type": "stream",
          "name": "stdout",
          "text": [
            "{1, 2, 3, 4, 5}\n"
          ]
        }
      ]
    },
    {
      "cell_type": "markdown",
      "source": [
        "17 Write a code to add the element 6 to the set {1, 2, 3, 4}."
      ],
      "metadata": {
        "id": "YNYjZJHYVg3P"
      }
    },
    {
      "cell_type": "code",
      "source": [
        "my_set = {1, 2, 3, 4}\n",
        "my_set.add(6)\n",
        "print(my_set)"
      ],
      "metadata": {
        "id": "_u8WfJGTVjre",
        "outputId": "6d448c1c-dc1a-4e5e-e7aa-32a2c6959b55",
        "colab": {
          "base_uri": "https://localhost:8080/"
        }
      },
      "execution_count": 23,
      "outputs": [
        {
          "output_type": "stream",
          "name": "stdout",
          "text": [
            "{1, 2, 3, 4, 6}\n"
          ]
        }
      ]
    },
    {
      "cell_type": "markdown",
      "source": [
        "18 Write a code to create a tuple with the elements 10, 20, 30 and print it."
      ],
      "metadata": {
        "id": "Q5TjakQaVvCt"
      }
    },
    {
      "cell_type": "code",
      "source": [
        "my_tuple = (10, 20, 30)\n",
        "print(my_tuple)"
      ],
      "metadata": {
        "id": "k5j8CRYfVykm",
        "outputId": "963ec316-cc53-4c01-9bdf-52989a8042c3",
        "colab": {
          "base_uri": "https://localhost:8080/"
        }
      },
      "execution_count": 27,
      "outputs": [
        {
          "output_type": "stream",
          "name": "stdout",
          "text": [
            "(10, 20, 30)\n"
          ]
        }
      ]
    },
    {
      "cell_type": "markdown",
      "source": [
        "19 Write a code to access the first element of the tuple ('apple', 'banana', 'cherry')."
      ],
      "metadata": {
        "id": "8rjxsx-tV2ua"
      }
    },
    {
      "cell_type": "code",
      "source": [
        "fruits = ('apple', 'banana', 'cherry')\n",
        "first_fruit = fruits[0]\n",
        "print(first_fruit)"
      ],
      "metadata": {
        "id": "H3OrCQKXV4Q7",
        "outputId": "87d3aeba-a2c6-462a-9b43-04ec5466ea2b",
        "colab": {
          "base_uri": "https://localhost:8080/"
        }
      },
      "execution_count": 26,
      "outputs": [
        {
          "output_type": "stream",
          "name": "stdout",
          "text": [
            "apple\n"
          ]
        }
      ]
    },
    {
      "cell_type": "markdown",
      "source": [
        "20 Write a code to count how many times the number 2 appears in the tuple (1, 2, 3, 2, 4, 2)."
      ],
      "metadata": {
        "id": "ewkEZfaoWGLB"
      }
    },
    {
      "cell_type": "code",
      "source": [
        "numbers = (1, 2, 3, 2, 4, 2)\n",
        "count = numbers.count(2)\n",
        "print(count)"
      ],
      "metadata": {
        "id": "vz0M-4QVWJ6I",
        "outputId": "682df194-2a4d-49e3-a5dd-c488af8bf95a",
        "colab": {
          "base_uri": "https://localhost:8080/"
        }
      },
      "execution_count": 24,
      "outputs": [
        {
          "output_type": "stream",
          "name": "stdout",
          "text": [
            "3\n"
          ]
        }
      ]
    },
    {
      "cell_type": "markdown",
      "source": [
        "21 Write a code to find the index of the element \"cat\" in the tuple ('dog', 'cat', 'rabbit')"
      ],
      "metadata": {
        "id": "WyskgHnuWPHC"
      }
    },
    {
      "cell_type": "code",
      "source": [
        "animals = ('dog', 'cat', 'rabbit')\n",
        "index_of_cat = animals.index('cat')\n",
        "print(index_of_cat)"
      ],
      "metadata": {
        "id": "DNN6bphsWQlu",
        "outputId": "01efa528-8b29-422f-9021-944fa2d0b1fb",
        "colab": {
          "base_uri": "https://localhost:8080/"
        }
      },
      "execution_count": 25,
      "outputs": [
        {
          "output_type": "stream",
          "name": "stdout",
          "text": [
            "1\n"
          ]
        }
      ]
    },
    {
      "cell_type": "markdown",
      "source": [
        "22 Write a code to check if the element \"banana\" is in the tuple ('apple', 'orange', 'banana')."
      ],
      "metadata": {
        "id": "pl0I-Rk-WcBe"
      }
    },
    {
      "cell_type": "code",
      "source": [
        "# this question solve in question number 15"
      ],
      "metadata": {
        "id": "xbDBq5jUWf4P"
      },
      "execution_count": null,
      "outputs": []
    },
    {
      "cell_type": "markdown",
      "source": [
        "23 Write a code to create a set with the elements 1, 2, 3, 4, 5 and print it."
      ],
      "metadata": {
        "id": "HZtXV15yWxe-"
      }
    },
    {
      "cell_type": "code",
      "source": [
        "my_set = {1, 2, 3, 4, 5}\n",
        "print(my_set)"
      ],
      "metadata": {
        "id": "vhRZpJ0bW1C2",
        "outputId": "8c511d0f-5bda-47a9-b2f3-e627b0e4d789",
        "colab": {
          "base_uri": "https://localhost:8080/"
        }
      },
      "execution_count": 28,
      "outputs": [
        {
          "output_type": "stream",
          "name": "stdout",
          "text": [
            "{1, 2, 3, 4, 5}\n"
          ]
        }
      ]
    },
    {
      "cell_type": "markdown",
      "source": [
        "24 Write a code to add the element 6 to the set {1, 2, 3, 4}."
      ],
      "metadata": {
        "id": "uELQr5M-XENm"
      }
    },
    {
      "cell_type": "code",
      "source": [
        "# Again same question i solve in question number 17"
      ],
      "metadata": {
        "id": "l_-OkJ5kXOLz"
      },
      "execution_count": null,
      "outputs": []
    }
  ]
}